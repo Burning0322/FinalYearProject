{
 "cells": [
  {
   "cell_type": "code",
   "id": "initial_id",
   "metadata": {
    "collapsed": true,
    "ExecuteTime": {
     "end_time": "2025-03-06T07:17:17.086351Z",
     "start_time": "2025-03-06T07:17:17.082936Z"
    }
   },
   "source": [
    "import json\n",
    "\n",
    "filepath = 'kiba/proteins.txt'\n",
    "with open(filepath,'r') as f:\n",
    "    protein_dict = json.load(f)"
   ],
   "outputs": [],
   "execution_count": 5
  },
  {
   "metadata": {
    "ExecuteTime": {
     "end_time": "2025-03-06T07:17:17.453092Z",
     "start_time": "2025-03-06T07:17:17.448834Z"
    }
   },
   "cell_type": "code",
   "source": [
    "with open('kiba_proteins.fasta', 'w') as f:\n",
    "    for protein_name, seq in protein_dict.items():\n",
    "        f.write(f\">{protein_name}\\n{seq}\\n\")"
   ],
   "id": "10dfa66ca0e47989",
   "outputs": [],
   "execution_count": 6
  },
  {
   "metadata": {
    "ExecuteTime": {
     "end_time": "2025-03-06T07:16:21.415817Z",
     "start_time": "2025-03-06T07:16:21.414735Z"
    }
   },
   "cell_type": "code",
   "source": "",
   "id": "7c7b9fc735f25160",
   "outputs": [],
   "execution_count": 2
  }
 ],
 "metadata": {
  "kernelspec": {
   "display_name": "Python 3",
   "language": "python",
   "name": "python3"
  },
  "language_info": {
   "codemirror_mode": {
    "name": "ipython",
    "version": 2
   },
   "file_extension": ".py",
   "mimetype": "text/x-python",
   "name": "python",
   "nbconvert_exporter": "python",
   "pygments_lexer": "ipython2",
   "version": "2.7.6"
  }
 },
 "nbformat": 4,
 "nbformat_minor": 5
}
