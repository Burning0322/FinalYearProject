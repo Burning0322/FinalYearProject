{
 "cells": [
  {
   "cell_type": "code",
   "id": "initial_id",
   "metadata": {
    "collapsed": true,
    "ExecuteTime": {
     "end_time": "2025-03-14T07:05:17.712873Z",
     "start_time": "2025-03-14T07:05:11.181465Z"
    }
   },
   "source": [
    "import torch\n",
    "from transformers import T5Tokenizer, T5EncoderModel\n",
    "import re\n",
    "\n",
    "with open('Davis.txt', 'r') as f:\n",
    "    lines = f.readlines()\n",
    "\n",
    "data = []\n",
    "for line in lines:\n",
    "    parts = line.strip().split(' ', 4)\n",
    "    if len(parts) == 5:\n",
    "        compound_id, protein_name, smiles, rest = parts[0], parts[1], parts[2], parts[3] + ' ' + parts[4]\n",
    "        sequence, label = rest.rsplit(' ', 1)\n",
    "        data.append({\n",
    "            'compound_id': compound_id,\n",
    "            'protein_name': protein_name,\n",
    "            'smiles': smiles,\n",
    "            'sequence': sequence,\n",
    "            'label': int(label)\n",
    "        })\n",
    "\n",
    "proteins = set()\n",
    "for protein in data:\n",
    "    proteins.add(protein['sequence'])\n",
    "\n",
    "proteins = list(proteins)"
   ],
   "outputs": [],
   "execution_count": 1
  },
  {
   "metadata": {
    "ExecuteTime": {
     "end_time": "2025-03-14T07:05:52.671339Z",
     "start_time": "2025-03-14T07:05:52.666752Z"
    }
   },
   "cell_type": "code",
   "source": "len(proteins)",
   "id": "bafe188360408558",
   "outputs": [
    {
     "data": {
      "text/plain": [
       "379"
      ]
     },
     "execution_count": 6,
     "metadata": {},
     "output_type": "execute_result"
    }
   ],
   "execution_count": 6
  },
  {
   "metadata": {
    "ExecuteTime": {
     "end_time": "2025-03-14T07:05:28.557918Z",
     "start_time": "2025-03-14T07:05:28.552873Z"
    }
   },
   "cell_type": "code",
   "source": "proteins[0]",
   "id": "60af7111ff16780c",
   "outputs": [
    {
     "data": {
      "text/plain": [
       "'MAGNCGARGALSAHTLLFDLPPALLGELCAVLDSCDGALGWRGLAERLSSSWLDVRHIEKYVDQGKSGTRELLWSWAQKNKTIGDLLQVLQEMGHRRAIHLITNYGAVLSPSEKSYQEGGFPNILFKETANVTVDNVLIPEHNEKGILLKSSISFQNIIEGTRNFHKDFLIGEGEIFEVYRVEIQNLTYAVKLFKQEKKMQCKKHWKRFLSELEVLLLFHHPNILELAAYFTETEKFCLIYPYMRNGTLFDRLQCVGDTAPLPWHIRIGILIGISKAIHYLHNVQPCSVICGSISSANILLDDQFQPKLTDFAMAHFRSHLEHQSCTINMTSSSSKHLWYMPEEYIRQGKLSIKTDVYSFGIVIMEVLTGCRVVLDDPKHIQLRDLLRELMEKRGLDSCLSFLDKKVPPCPRNFSAKLFCLAGRCAATRAKLRPSMDEVLNTLESTQASLYFAEDPPTSLKSFRCPSPLFLENVPSIPVEDDESQNNNLLPSDEGLRIDRMTQKTPFECSQSEVMFLSLDKKPESKRNEEACNMPSSSCEESWFPKYIVPSQDLRPYKVNIDPSSEAPGHSCRSRPVESSCSSKFSWDEYEQYKKE'"
      ]
     },
     "execution_count": 2,
     "metadata": {},
     "output_type": "execute_result"
    }
   ],
   "execution_count": 2
  },
  {
   "metadata": {
    "ExecuteTime": {
     "end_time": "2025-03-14T07:05:29.199937Z",
     "start_time": "2025-03-14T07:05:29.196999Z"
    }
   },
   "cell_type": "code",
   "source": [
    "device= torch.device(\"mps\")\n",
    "print(device)"
   ],
   "id": "87fd3ead7f9508a3",
   "outputs": [
    {
     "name": "stdout",
     "output_type": "stream",
     "text": [
      "mps\n"
     ]
    }
   ],
   "execution_count": 3
  },
  {
   "metadata": {},
   "cell_type": "code",
   "source": [
    "tokenizer = T5Tokenizer.from_pretrained(\"Rostlab/prot_t5_xl_uniref50\")\n",
    "model = T5EncoderModel.from_pretrained(\"Rostlab/prot_t5_xl_uniref50\").to(device)\n",
    "model.eval()"
   ],
   "id": "c92c2b123d11441",
   "outputs": [],
   "execution_count": null
  },
  {
   "metadata": {
    "ExecuteTime": {
     "end_time": "2025-03-14T07:05:32.644038Z",
     "start_time": "2025-03-14T07:05:32.641890Z"
    }
   },
   "cell_type": "code",
   "source": [
    "max_seq_length = max(len(seq) for seq in proteins)\n",
    "print(f\"Max sequence length: {max_seq_length}\")"
   ],
   "id": "edc66c04a0768aac",
   "outputs": [
    {
     "name": "stdout",
     "output_type": "stream",
     "text": [
      "Max sequence length: 2549\n"
     ]
    }
   ],
   "execution_count": 4
  },
  {
   "metadata": {
    "ExecuteTime": {
     "start_time": "2025-03-14T07:04:52.634014Z"
    }
   },
   "cell_type": "code",
   "source": "sequence_examples = proteins",
   "id": "f1bc39fb831cd8c",
   "outputs": [],
   "execution_count": null
  },
  {
   "metadata": {
    "ExecuteTime": {
     "start_time": "2025-03-14T07:04:52.635076Z"
    }
   },
   "cell_type": "code",
   "source": [
    "sequence_examples = [\" \".join(list(re.sub(r\"[UZOB]\", \"X\", sequence))) for sequence in sequence_examples]\n",
    "\n",
    "input = tokenizer(sequence_examples, return_tensors=\"pt\", padding=True, truncation=True).to(device)\n",
    "with torch.no_grad():\n",
    "    outputs = model(**input)\n"
   ],
   "id": "d79e4d49ca387f9a",
   "outputs": [],
   "execution_count": null
  }
 ],
 "metadata": {
  "kernelspec": {
   "display_name": "dl",
   "language": "python",
   "name": "dl"
  },
  "language_info": {
   "codemirror_mode": {
    "name": "ipython",
    "version": 2
   },
   "file_extension": ".py",
   "mimetype": "text/x-python",
   "name": "python",
   "nbconvert_exporter": "python",
   "pygments_lexer": "ipython2",
   "version": "2.7.6"
  }
 },
 "nbformat": 4,
 "nbformat_minor": 5
}
