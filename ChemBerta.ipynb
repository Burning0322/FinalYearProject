{
 "cells": [
  {
   "cell_type": "code",
   "execution_count": 1,
   "id": "0375c17c",
   "metadata": {},
   "source": [
    "import torch\n",
    "device = torch.device(\"mps\") if torch.backends.mps.is_available() else torch.device(\"cpu\")"
   ],
   "outputs": []
  },
  {
   "cell_type": "code",
   "execution_count": 2,
   "id": "6d8865a4",
   "metadata": {},
   "source": [
    "import json\n",
    "from transformers import AutoTokenizer,RobertaModel\n",
    "local_model_path = \"/Users/renhonglow/Desktop/FYP/DTI/ChemBERTa-10M-MTR\"\n",
    "\n",
    "tokenizer = AutoTokenizer.from_pretrained(local_model_path)\n",
    "model = RobertaModel.from_pretrained(local_model_path).to(device)\n",
    "model.eval()"
   ],
   "outputs": []
  },
  {
   "cell_type": "code",
   "id": "4aee82bb",
   "metadata": {
    "ExecuteTime": {
     "end_time": "2025-03-06T12:18:52.500399Z",
     "start_time": "2025-03-06T12:18:52.497308Z"
    }
   },
   "source": [
    "import os\n",
    "import json\n",
    "filepath= os.path.abspath('davis/ligands_can.txt')\n",
    "\n",
    "with open(filepath,'r') as file:\n",
    "    smile_dict =json.load(file)"
   ],
   "execution_count": 4,
   "outputs": []
  },
  {
   "metadata": {
    "ExecuteTime": {
     "end_time": "2025-03-06T12:19:25.042368Z",
     "start_time": "2025-03-06T12:19:25.039941Z"
    }
   },
   "cell_type": "code",
   "source": "smile_dict",
   "id": "59de7f2d92b890db",
   "execution_count": 7,
   "outputs": []
  },
  {
   "metadata": {
    "ExecuteTime": {
     "end_time": "2025-03-06T12:19:32.682377Z",
     "start_time": "2025-03-06T12:19:32.680296Z"
    }
   },
   "cell_type": "code",
   "source": "print(len(smile_dict))",
   "id": "428b3aa08bc24d90",
   "execution_count": 8,
   "outputs": []
  },
  {
   "cell_type": "code",
   "id": "e88c7b7a",
   "metadata": {
    "ExecuteTime": {
     "end_time": "2025-03-06T12:19:57.726135Z",
     "start_time": "2025-03-06T12:19:57.723040Z"
    }
   },
   "source": [
    "import os\n",
    "filepath= os.path.abspath('kiba/ligands_iso.txt')\n",
    "\n",
    "with open(filepath,'r') as file:\n",
    "    smile_dict =json.load(file)"
   ],
   "execution_count": 9,
   "outputs": []
  },
  {
   "cell_type": "code",
   "id": "7f48fc6d",
   "metadata": {
    "ExecuteTime": {
     "end_time": "2025-03-06T12:19:58.058809Z",
     "start_time": "2025-03-06T12:19:58.041704Z"
    }
   },
   "source": [
    "smile_dict"
   ],
   "execution_count": 10,
   "outputs": []
  },
  {
   "cell_type": "code",
   "id": "725c3d5b",
   "metadata": {
    "ExecuteTime": {
     "end_time": "2025-03-06T12:19:58.294760Z",
     "start_time": "2025-03-06T12:19:58.292767Z"
    }
   },
   "source": "print(len(smile_dict))",
   "execution_count": 11,
   "outputs": []
  },
  {
   "cell_type": "code",
   "execution_count": 7,
   "id": "f1152d8d",
   "metadata": {},
   "source": [
    "i=0\n",
    "max_length=0\n",
    "for smile in smile_dict.values():\n",
    "    print(f\"Smiles {i}: {smile}，length: {len(smile)}\")\n",
    "    i=i+1\n",
    "    current_length = len(smile)\n",
    "    if current_length > max_length:\n",
    "        max_length = current_length\n",
    "\n",
    "print(f\"Max SMILES length: {max_length}\")"
   ],
   "outputs": []
  },
  {
   "cell_type": "code",
   "execution_count": 8,
   "id": "1caa8ad7",
   "metadata": {},
   "source": [
    "smiles = list()\n",
    "for smile in smile_dict.values():\n",
    "    smiles.append(smile)"
   ],
   "outputs": []
  },
  {
   "cell_type": "markdown",
   "id": "53711a19",
   "metadata": {},
   "source": [
    "last_hidden_state的形状的含义为(batch_size, sequence_length, hidden_size) <br/>\n",
    "sequence_length 就是批次中最长的 token 序列长度"
   ]
  },
  {
   "cell_type": "code",
   "execution_count": null,
   "id": "6f205f3e",
   "metadata": {},
   "source": [
    "input = tokenizer(smiles,padding=True,truncation=True,max_length=512,return_tensors=\"pt\").to(device)\n",
    "output = model(**input)\n",
    "print(output.last_hidden_state.shape)"
   ],
   "outputs": []
  },
  {
   "cell_type": "code",
   "execution_count": null,
   "id": "6aa15d15",
   "metadata": {},
   "source": [
    "cls_embedding = output.last_hidden_state[:, 0, :]\n",
    "print(cls_embedding.shape)  # 输出形状应为 (batch_size, hidden_size)\n",
    "mean_embedding = output.last_hidden_state.mean(dim=1)\n",
    "print(mean_embedding.shape)  # 输出形状为 (batch_size, hidden_size)\n",
    "combined_embedding = torch.cat([cls_embedding, mean_embedding], dim=-1)\n",
    "print(combined_embedding.shape)  # 输出形状为 (batch_size, hidden_size * 2)"
   ],
   "outputs": []
  },
  {
   "cell_type": "code",
   "execution_count": null,
   "id": "a76634a8",
   "metadata": {},
   "source": [
    "features = output.last_hidden_state.cpu()\n",
    "torch.save(features, 'ligands.pt')"
   ],
   "outputs": []
  },
  {
   "cell_type": "code",
   "execution_count": 9,
   "id": "d5cfae5c",
   "metadata": {},
   "source": [
    "import torch\n",
    "\n",
    "features = torch.load('ligands_kiba.pt')\n",
    "print(features.shape)"
   ],
   "outputs": []
  },
  {
   "cell_type": "code",
   "execution_count": null,
   "id": "85ce7972",
   "metadata": {},
   "source": [
    "token_embeddings = features\n",
    "print(token_embeddings.shape)"
   ],
   "outputs": []
  }
 ],
 "metadata": {
  "kernelspec": {
   "display_name": "dl",
   "language": "python",
   "name": "python3"
  },
  "language_info": {
   "codemirror_mode": {
    "name": "ipython",
    "version": 3
   },
   "file_extension": ".py",
   "mimetype": "text/x-python",
   "name": "python",
   "nbconvert_exporter": "python",
   "pygments_lexer": "ipython3",
   "version": "3.9.19"
  }
 },
 "nbformat": 4,
 "nbformat_minor": 5
}
